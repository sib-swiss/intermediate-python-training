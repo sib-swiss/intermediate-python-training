{
 "cells": [
  {
   "cell_type": "markdown",
   "id": "4a00ffcd",
   "metadata": {},
   "source": [
    "\n",
    "# Exam\n",
    "\n",
    "For this course exam, we ask you to send us your work on the plotly and dash project of your choosing\n",
    "Please send a notebook named **name_surname.ipynb** at wandrille.duchemin [at] unibas.ch **at most 1 week after the end of the course**.\n"
   ]
  },
  {
   "cell_type": "code",
   "execution_count": null,
   "id": "c16d9176",
   "metadata": {},
   "outputs": [],
   "source": []
  }
 ],
 "metadata": {
  "kernelspec": {
   "display_name": "Environment (conda_darpy2025)",
   "language": "python",
   "name": "conda_darpy2025"
  },
  "language_info": {
   "codemirror_mode": {
    "name": "ipython",
    "version": 3
   },
   "file_extension": ".py",
   "mimetype": "text/x-python",
   "name": "python",
   "nbconvert_exporter": "python",
   "pygments_lexer": "ipython3",
   "version": "3.13.5"
  }
 },
 "nbformat": 4,
 "nbformat_minor": 5
}
