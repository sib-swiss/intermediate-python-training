{
 "cells": [
  {
   "cell_type": "markdown",
   "id": "9bb9d433",
   "metadata": {},
   "source": [
    "The goal of this notebook is to introduce more complex plotly behaviors, \n",
    "in particular when it comes to interactive elements\n"
   ]
  },
  {
   "cell_type": "code",
   "execution_count": null,
   "id": "deec5419",
   "metadata": {},
   "outputs": [],
   "source": [
    "## depending on your version of plotly, \n",
    "## you will have to first run this for plotly graphics to appear in the notebook\n",
    "import plotly.io as pio\n",
    "pio.renderers.default = 'notebook'\n"
   ]
  },
  {
   "cell_type": "code",
   "execution_count": null,
   "id": "1722996e",
   "metadata": {},
   "outputs": [],
   "source": [
    "import pandas as pd\n",
    "import plotly.express as px\n"
   ]
  },
  {
   "cell_type": "markdown",
   "id": "1093b7ac",
   "metadata": {},
   "source": [
    "## plotly.graph_objects : a finer control over graph elements\n",
    "\n",
    "`plotly.graph_objects` is the low-level API of plotly.\n",
    "\n",
    "It requires more code than plotly.express to create your figure but gives you a fine control over the graphical elements.\n",
    "\n",
    "As the two are compatible, it is also possible to start a figure with plotly.express and then to add new traces with plotly.graph_objetcs."
   ]
  },
  {
   "cell_type": "code",
   "execution_count": null,
   "id": "07afee7c",
   "metadata": {},
   "outputs": [],
   "source": [
    "import plotly.graph_objects as go\n",
    "\n",
    "# Add data\n",
    "month = ['January', 'February', 'March', 'April', 'May', 'June', 'July',\n",
    "         'August', 'September', 'October', 'November', 'December']\n",
    "high_2000 = [32.5, 37.6, 49.9, 53.0, 69.1, 75.4, 76.5, 76.6, 70.7, 60.6, 45.1, 29.3]\n",
    "low_2000 = [13.8, 22.3, 32.5, 37.2, 49.9, 56.1, 57.7, 58.3, 51.2, 42.8, 31.6, 15.9]\n",
    "high_2007 = [36.5, 26.6, 43.6, 52.3, 71.5, 81.4, 80.5, 82.2, 76.0, 67.3, 46.1, 35.0]\n",
    "low_2007 = [23.6, 14.0, 27.0, 36.8, 47.6, 57.7, 58.9, 61.2, 53.3, 48.5, 31.0, 23.6]\n",
    "high_2014 = [28.8, 28.5, 37.0, 56.8, 69.7, 79.7, 78.5, 77.8, 74.1, 62.6, 45.3, 39.9]\n",
    "low_2014 = [12.7, 14.3, 18.6, 35.5, 49.9, 58.0, 60.0, 58.6, 51.7, 45.2, 32.2, 29.1]\n",
    "\n",
    "fig = go.Figure()\n",
    "# Create and style traces\n",
    "fig.add_trace(go.Scatter(x=month, y=high_2014, name='High 2014',\n",
    "                         line=dict(color='firebrick', width=4)))\n",
    "fig.add_trace(go.Scatter(x=month, y=low_2014, name = 'Low 2014',\n",
    "                         line=dict(color='royalblue', width=4)))\n",
    "fig.add_trace(go.Scatter(x=month, y=high_2007, name='High 2007',\n",
    "                         line=dict(color='firebrick', width=4,\n",
    "                              dash='dash') # dash options include 'dash', 'dot', and 'dashdot'\n",
    "))\n",
    "fig.add_trace(go.Scatter(x=month, y=low_2007, name='Low 2007',\n",
    "                         line = dict(color='royalblue', width=4, dash='dash')))\n",
    "fig.add_trace(go.Scatter(x=month, y=high_2000, name='High 2000',\n",
    "                         line = dict(color='firebrick', width=4, dash='dot')))\n",
    "fig.add_trace(go.Scatter(x=month, y=low_2000, name='Low 2000',\n",
    "                         line=dict(color='royalblue', width=4, dash='dot')))\n",
    "\n",
    "# Edit the layout\n",
    "fig.update_layout(title='Average High and Low Temperatures in New York',\n",
    "                   xaxis_title='Month',\n",
    "                   yaxis_title='Temperature (degrees F)')\n",
    "\n",
    "\n",
    "fig.show()\n"
   ]
  },
  {
   "cell_type": "code",
   "execution_count": null,
   "id": "89684c77",
   "metadata": {},
   "outputs": [],
   "source": [
    "fig.data"
   ]
  },
  {
   "cell_type": "markdown",
   "id": "445291a6",
   "metadata": {},
   "source": [
    "Also remember that one can change the different properties of the traces:"
   ]
  },
  {
   "cell_type": "code",
   "execution_count": null,
   "id": "2e85707f",
   "metadata": {},
   "outputs": [],
   "source": [
    "## changing the line_color of a trace\n",
    "fig.data[0]['line_color'] = 'purple'\n",
    "fig"
   ]
  },
  {
   "cell_type": "code",
   "execution_count": null,
   "id": "ba8489db",
   "metadata": {},
   "outputs": [],
   "source": [
    "## change the visibility of a trace\n",
    "fig.data[0]['visible'] = False\n",
    "fig"
   ]
  },
  {
   "cell_type": "code",
   "execution_count": null,
   "id": "f70a046b",
   "metadata": {},
   "outputs": [],
   "source": [
    "## changing all traces properties at once\n",
    "fig.update_traces( line_color = 'green' )\n",
    "fig"
   ]
  },
  {
   "cell_type": "markdown",
   "id": "57e29dfc",
   "metadata": {},
   "source": [
    "`plotly.graph_object` traces can be combined with `plotly.express` seamlessly:"
   ]
  },
  {
   "cell_type": "code",
   "execution_count": null,
   "id": "cdb38f25",
   "metadata": {},
   "outputs": [],
   "source": [
    "import plotly.graph_objects as go\n",
    "\n",
    "import pandas as pd\n",
    "\n",
    "# Load dataset\n",
    "df = pd.read_csv(\n",
    "    \"https://raw.githubusercontent.com/plotly/datasets/master/finance-charts-apple.csv\")\n",
    "df.columns = [col.replace(\"AAPL.\", \"\") for col in df.columns]\n"
   ]
  },
  {
   "cell_type": "code",
   "execution_count": null,
   "id": "f7f2cf22",
   "metadata": {},
   "outputs": [],
   "source": [
    "fig = px.line( df , x = 'Date' , y = \"Open\" )\n",
    "\n",
    "fig.add_trace( go.Scatter( x = df.Date , y = df.Low , line_color = \"green\" , name = 'low' ) )\n",
    "fig.add_trace( go.Scatter( x = df.Date , y = df.High , line_color = \"red\", name = 'high' ) )\n",
    "\n",
    "fig"
   ]
  },
  {
   "cell_type": "markdown",
   "id": "97dadadc",
   "metadata": {},
   "source": [
    "## Hovering labels in GO\n",
    "\n",
    "remember that `px` let's us define the hover data as follow:"
   ]
  },
  {
   "cell_type": "code",
   "execution_count": null,
   "id": "2e502189",
   "metadata": {},
   "outputs": [],
   "source": [
    "df = pd.read_csv(\"data/horst2020_palmerpenguins_raw.csv\")\n",
    "fig = px.scatter(df , x = 'Culmen Length (mm)' , y = 'Culmen Depth (mm)' , \n",
    "                 color = 'Species',\n",
    "                 hover_name = \"Species\", \n",
    "                 hover_data = ['Sex',\"Body Mass (g)\"]\n",
    "                )\n",
    "\n",
    "fig"
   ]
  },
  {
   "cell_type": "markdown",
   "id": "e7182b49",
   "metadata": {},
   "source": [
    "In graph object, we have to define things more manually, \n",
    "but we also have a finer control:"
   ]
  },
  {
   "cell_type": "code",
   "execution_count": null,
   "id": "63198ae9",
   "metadata": {},
   "outputs": [],
   "source": [
    "fig = go.Figure()\n",
    "# Create and style traces\n",
    "\n",
    "fig.add_trace(go.Scatter(x= df['Culmen Length (mm)'], \n",
    "                         y= df['Culmen Depth (mm)'],\n",
    "                         mode='markers',\n",
    "                         marker_color = 'grey' ,\n",
    "                         hovertemplate = \"species\\t\\t\\t : %{text}<br>\"+ # hovertemplate text is in html,\n",
    "                                         \"Culmen Length\\t : %{x:.1f}<br>\" + # so use <br> instead of \\n\n",
    "                                         \"Culmen Depth\\t : %{y:.1f}\",\n",
    "                         text = [x.partition(' ')[0] for x in  df.Species]\n",
    "                        ) \n",
    "             )\n",
    "                         \n",
    "fig"
   ]
  },
  {
   "cell_type": "markdown",
   "id": "f0c27eab",
   "metadata": {},
   "source": [
    "we can use the text argument to set-up arbitrary labels"
   ]
  },
  {
   "cell_type": "code",
   "execution_count": null,
   "id": "9f94dd95",
   "metadata": {},
   "outputs": [],
   "source": [
    "def make_label( row ):\n",
    "    \n",
    "    return_str = f\"species : {row.Species.partition(' ')[0]}<br>\" \n",
    "    \n",
    "    if pd.isna( row.Sex ):\n",
    "        return_str += f\"sex     : NA<br>\"\n",
    "    else:\n",
    "        return_str += f\"sex     : {row.Sex.capitalize()}<br>\"\n",
    "        \n",
    "    if not pd.isna( row.Comments ):\n",
    "        return_str += f\"comment : {row.Comments}<br>\"\n",
    "    \n",
    "    return return_str\n",
    "    \n"
   ]
  },
  {
   "cell_type": "code",
   "execution_count": null,
   "id": "74c590a3",
   "metadata": {},
   "outputs": [],
   "source": [
    "fig = go.Figure()\n",
    "# Create and style traces\n",
    "\n",
    "fig.add_trace(go.Scatter(x= df['Culmen Length (mm)'], \n",
    "                         y= df['Culmen Depth (mm)'],\n",
    "                         mode='markers',\n",
    "                         marker_color = 'grey' ,\n",
    "                         hovertemplate = \"%{text}\"+ # hovertemplate text is in html,\n",
    "                                         \"Culmen Length\\t : %{x:.1f}<br>\" + # so use <br> instead of \\n\n",
    "                                         \"Culmen Depth\\t : %{x:.1f}\",\n",
    "                         text = [make_label(row) for i,row in  df.iterrows()] ) \n",
    "             )\n",
    "                         \n",
    "fig"
   ]
  },
  {
   "cell_type": "markdown",
   "id": "7459ee92",
   "metadata": {},
   "source": [
    "# exercise\n",
    "\n",
    "We are going to load a file containing some coverage data collected in an ATACseq experiment on a small portion of the genome.\n",
    "\n",
    "The data contains a position columns corresponding to the position on the chromosome portion,\n",
    "as well as one column per sample corresponding to the average coverage at that position.\n",
    "\n",
    "Samples are grouped in 2 technical replicates, denoted by suffixes `_T1` and `_T2`. For example, this means that `THZ531_T1` and `THZ531_T2` correpsond to the same biological extract which was sequenced separately twice.\n",
    "\n",
    "\n",
    "from the coverage view below, find a way to :\n",
    " 1. add proper trace names to make the legend reflect the sample name\n",
    " 2. make replicates of the same color (eg, THZ531_T1 and THZ531_T2 should both be the same color)\n",
    " 3. change the hovered label so that the position appears as a plain integer (e.g., 3768483 instead of 3.768483M)\n",
    " 4. *extra*: try to use [grouped legend items](https://plotly.com/python/legend/#grouped-legend-items) to make one group per condition (eg, THZ531, NVP2, THZ1, ...)"
   ]
  },
  {
   "cell_type": "code",
   "execution_count": null,
   "id": "7a6b64fd",
   "metadata": {},
   "outputs": [],
   "source": [
    "## loading data\n",
    "df = pd.read_csv(\"data/coverage_tracks.data.csv\")\n",
    "df.head()"
   ]
  },
  {
   "cell_type": "code",
   "execution_count": null,
   "id": "ee340445",
   "metadata": {},
   "outputs": [],
   "source": [
    "fig = go.Figure()\n",
    "\n",
    "for sample in [ 'THZ531_T1','THZ531_T2','NVP2_T1','NVP2_T2', 'THZ1_T1' , 'THZ1_T2' ]:\n",
    "\n",
    "    fig.add_trace( go.Scatter( x =  df['position'],\n",
    "                               y = df[sample] ) \n",
    "                 )\n",
    "\n",
    "fig"
   ]
  },
  {
   "cell_type": "code",
   "execution_count": null,
   "id": "8c99e70f",
   "metadata": {},
   "outputs": [],
   "source": []
  },
  {
   "cell_type": "markdown",
   "id": "b44525ab",
   "metadata": {},
   "source": [
    "Solution:"
   ]
  },
  {
   "cell_type": "markdown",
   "id": "99ff2bf9",
   "metadata": {},
   "source": [
    "1. add proper trace names to make the legend reflect the sample name"
   ]
  },
  {
   "cell_type": "code",
   "execution_count": null,
   "id": "f4b5edb1",
   "metadata": {},
   "outputs": [],
   "source": [
    "# %load -r 1-11 solutions/solution_02_01.py"
   ]
  },
  {
   "cell_type": "markdown",
   "id": "032eb1dd",
   "metadata": {},
   "source": [
    "2. make replicates of the same color (eg, THZ531_T1 and THZ531_T2 should both be the same color)"
   ]
  },
  {
   "cell_type": "code",
   "execution_count": null,
   "id": "db88999b",
   "metadata": {},
   "outputs": [],
   "source": [
    "# %load -r 12-34 solutions/solution_02_01.py"
   ]
  },
  {
   "cell_type": "markdown",
   "id": "1b22c16e",
   "metadata": {},
   "source": [
    "3. change the hovered label so that the position appears as a plain integer (e.g., 3768483 instead of 3.768483M)"
   ]
  },
  {
   "cell_type": "code",
   "execution_count": null,
   "id": "622b212a",
   "metadata": {},
   "outputs": [],
   "source": [
    "# %load -r 35-61 solutions/solution_02_01.py"
   ]
  },
  {
   "cell_type": "markdown",
   "id": "bd4a940b",
   "metadata": {},
   "source": [
    "4. *extra*: try to use [grouped legend items](https://plotly.com/python/legend/#grouped-legend-items) to make one group per condition (eg, THZ531, NVP2, THZ1, ...)"
   ]
  },
  {
   "cell_type": "code",
   "execution_count": null,
   "id": "4ab8a436",
   "metadata": {},
   "outputs": [],
   "source": [
    "# %load -r 62- solutions/solution_02_01.py"
   ]
  },
  {
   "cell_type": "markdown",
   "id": "2c87d299",
   "metadata": {},
   "source": [
    "## buttons\n",
    "\n",
    "plotly let's you add several elements to your figures, such as button, sliders or dropdown menus.\n",
    "\n",
    "\n",
    "We will show how to add buttons which toggle the visibility of high and low lines:"
   ]
  },
  {
   "cell_type": "code",
   "execution_count": null,
   "id": "c16d33fb",
   "metadata": {},
   "outputs": [],
   "source": [
    "fig = go.Figure()\n",
    "# Create and style traces\n",
    "fig.add_trace(go.Scatter(x=month, y=high_2014, name='High 2014',\n",
    "                         line=dict(color='firebrick', width=4)))\n",
    "fig.add_trace(go.Scatter(x=month, y=low_2014, name = 'Low 2014',\n",
    "                         line=dict(color='royalblue', width=4)))\n",
    "fig.add_trace(go.Scatter(x=month, y=high_2007, name='High 2007',\n",
    "                         line=dict(color='firebrick', width=4,\n",
    "                              dash='dash') # dash options include 'dash', 'dot', and 'dashdot'\n",
    "))\n",
    "fig.add_trace(go.Scatter(x=month, y=low_2007, name='Low 2007',\n",
    "                         line = dict(color='royalblue', width=4, dash='dash')))\n",
    "fig.add_trace(go.Scatter(x=month, y=high_2000, name='High 2000',\n",
    "                         line = dict(color='firebrick', width=4, dash='dot')))\n",
    "fig.add_trace(go.Scatter(x=month, y=low_2000, name='Low 2000',\n",
    "                         line=dict(color='royalblue', width=4, dash='dot')))\n",
    "\n",
    "# Edit the layout\n",
    "fig.update_layout(title='Average High and Low Temperatures in New York',\n",
    "                   xaxis_title='Month',\n",
    "                   yaxis_title='Temperature (degrees F)')\n",
    "\n",
    "\n",
    "# Add buttons\n",
    "## to toggle the visibility, we change the \"visible\" aspect of \n",
    "## traces by giving a list of True (visible) and False (not-visible)\n",
    "fig.update_layout(\n",
    "    updatemenus=[\n",
    "        dict(\n",
    "            type = \"buttons\",\n",
    "            direction = \"left\",\n",
    "            buttons=list([\n",
    "                dict(\n",
    "                    method=\"update\",\n",
    "                    args=[{\"visible\": [True, False] * 3}],\n",
    "                    label=\"high only\",\n",
    "                ),\n",
    "                dict(\n",
    "                    method=\"update\",\n",
    "                    args=[{\"visible\": [False, True] * 3}],\n",
    "                    label=\"low only\",\n",
    "                )\n",
    "            ]),\n",
    "            pad={\"r\": 10, \"t\": 10},\n",
    "            showactive=True,\n",
    "            x=0.11,\n",
    "            xanchor=\"left\",\n",
    "            y=1.1,\n",
    "            yanchor=\"top\"\n",
    "        ),\n",
    "    ]\n",
    ")\n",
    "\n",
    "fig\n"
   ]
  },
  {
   "cell_type": "markdown",
   "id": "a794e2a2",
   "metadata": {},
   "source": [
    "**micro-exercise:** change the code above to add a third button wich shows all traces again."
   ]
  },
  {
   "cell_type": "code",
   "execution_count": null,
   "id": "8cb52f0c",
   "metadata": {},
   "outputs": [],
   "source": []
  }
 ],
 "metadata": {
  "kernelspec": {
   "display_name": "Environment (conda_ivipy2025)",
   "language": "python",
   "name": "conda_ivipy2025"
  },
  "language_info": {
   "codemirror_mode": {
    "name": "ipython",
    "version": 3
   },
   "file_extension": ".py",
   "mimetype": "text/x-python",
   "name": "python",
   "nbconvert_exporter": "python",
   "pygments_lexer": "ipython3",
   "version": "3.13.5"
  }
 },
 "nbformat": 4,
 "nbformat_minor": 5
}
