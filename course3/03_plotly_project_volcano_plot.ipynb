{
 "cells": [
  {
   "cell_type": "markdown",
   "id": "60f38349",
   "metadata": {},
   "source": [
    "# Volcano plot \n",
    "\n",
    "We use here RNAseq data from the article [\"Stromal senescence establishes an immunosuppressive microenvironment that drives tumorigenesis\" by Ruhland et al. (2016)](https://www.nature.com/articles/ncomms11762).\n",
    "\n",
    "We have conducted a Differential Gene Expression analysis and we would like to display the results as an interactive volcano plot that will help us investigate this dataset.\n",
    "\n"
   ]
  },
  {
   "cell_type": "code",
   "execution_count": 1,
   "id": "afe07272",
   "metadata": {},
   "outputs": [
    {
     "data": {
      "text/html": [
       "<div>\n",
       "<style scoped>\n",
       "    .dataframe tbody tr th:only-of-type {\n",
       "        vertical-align: middle;\n",
       "    }\n",
       "\n",
       "    .dataframe tbody tr th {\n",
       "        vertical-align: top;\n",
       "    }\n",
       "\n",
       "    .dataframe thead th {\n",
       "        text-align: right;\n",
       "    }\n",
       "</style>\n",
       "<table border=\"1\" class=\"dataframe\">\n",
       "  <thead>\n",
       "    <tr style=\"text-align: right;\">\n",
       "      <th></th>\n",
       "      <th>baseMean</th>\n",
       "      <th>log2FoldChange</th>\n",
       "      <th>lfcSE</th>\n",
       "      <th>pvalue</th>\n",
       "      <th>padj</th>\n",
       "      <th>gene_name</th>\n",
       "    </tr>\n",
       "  </thead>\n",
       "  <tbody>\n",
       "    <tr>\n",
       "      <th>ENSMUSG00000097426</th>\n",
       "      <td>27.184775</td>\n",
       "      <td>-0.040267</td>\n",
       "      <td>0.252966</td>\n",
       "      <td>0.627291</td>\n",
       "      <td>0.920448</td>\n",
       "      <td>ENSMUSG00000097426</td>\n",
       "    </tr>\n",
       "    <tr>\n",
       "      <th>ENSMUSG00000102135</th>\n",
       "      <td>2.799398</td>\n",
       "      <td>-0.017803</td>\n",
       "      <td>0.259973</td>\n",
       "      <td>0.719357</td>\n",
       "      <td>NaN</td>\n",
       "      <td>ENSMUSG00000102135</td>\n",
       "    </tr>\n",
       "    <tr>\n",
       "      <th>ENSMUSG00000100764</th>\n",
       "      <td>7.933996</td>\n",
       "      <td>0.077255</td>\n",
       "      <td>0.266120</td>\n",
       "      <td>0.338933</td>\n",
       "      <td>0.785335</td>\n",
       "      <td>ENSMUSG00000100764</td>\n",
       "    </tr>\n",
       "    <tr>\n",
       "      <th>ENSMUSG00000100635</th>\n",
       "      <td>6.563437</td>\n",
       "      <td>0.131920</td>\n",
       "      <td>0.299808</td>\n",
       "      <td>0.098540</td>\n",
       "      <td>0.484388</td>\n",
       "      <td>ENSMUSG00000100635</td>\n",
       "    </tr>\n",
       "    <tr>\n",
       "      <th>ENSMUSG00000100480</th>\n",
       "      <td>9.815896</td>\n",
       "      <td>0.004231</td>\n",
       "      <td>0.253920</td>\n",
       "      <td>0.954388</td>\n",
       "      <td>0.990006</td>\n",
       "      <td>ENSMUSG00000100480</td>\n",
       "    </tr>\n",
       "  </tbody>\n",
       "</table>\n",
       "</div>"
      ],
      "text/plain": [
       "                     baseMean  log2FoldChange     lfcSE    pvalue      padj  \\\n",
       "ENSMUSG00000097426  27.184775       -0.040267  0.252966  0.627291  0.920448   \n",
       "ENSMUSG00000102135   2.799398       -0.017803  0.259973  0.719357       NaN   \n",
       "ENSMUSG00000100764   7.933996        0.077255  0.266120  0.338933  0.785335   \n",
       "ENSMUSG00000100635   6.563437        0.131920  0.299808  0.098540  0.484388   \n",
       "ENSMUSG00000100480   9.815896        0.004231  0.253920  0.954388  0.990006   \n",
       "\n",
       "                             gene_name  \n",
       "ENSMUSG00000097426  ENSMUSG00000097426  \n",
       "ENSMUSG00000102135  ENSMUSG00000102135  \n",
       "ENSMUSG00000100764  ENSMUSG00000100764  \n",
       "ENSMUSG00000100635  ENSMUSG00000100635  \n",
       "ENSMUSG00000100480  ENSMUSG00000100480  "
      ]
     },
     "execution_count": 1,
     "metadata": {},
     "output_type": "execute_result"
    }
   ],
   "source": [
    "import pandas as pd\n",
    "import plotly.express as px\n",
    "\n",
    "#df = pd.read_table( folder+ file , sep=' ')\n",
    "df = pd.read_csv( \"data/Ruhland2016.DESeq2.results.csv\" , index_col=0)\n",
    "df.head()"
   ]
  },
  {
   "cell_type": "markdown",
   "id": "cad208f8",
   "metadata": {},
   "source": [
    "Our goal is to build an interactive **[volcano plot](https://en.wikipedia.org/wiki/Volcano_plot_(statistics))** visualization.\n",
    "\n",
    "We want:\n",
    "\n",
    " * log2Folchange to be the x-axis\n",
    " * the log10 of the adjusted p-value to be the y-axis (*hint:* you'll have to lookup how to make a log-scale axe or transform the column values)\n",
    " * points colored differently depending on whether their adjusted p-value is below 0.05 and their log2FoldChange is below -1 or above +1\n",
    " * add gene name to the hover label\n",
    " * add some horizontal and vertical lines at the 0.05 adjusted p-vlaue and -1/+1 log2FoldChnage threshold\n",
    "\n",
    "\n"
   ]
  },
  {
   "cell_type": "code",
   "execution_count": null,
   "id": "49df18af",
   "metadata": {},
   "outputs": [],
   "source": []
  },
  {
   "cell_type": "markdown",
   "id": "88adc82f",
   "metadata": {},
   "source": [
    "Solution:"
   ]
  },
  {
   "cell_type": "code",
   "execution_count": 23,
   "id": "d42d3a59",
   "metadata": {},
   "outputs": [],
   "source": [
    "# %load solutions/solution_volcano.py"
   ]
  },
  {
   "cell_type": "code",
   "execution_count": null,
   "id": "91bf6efa",
   "metadata": {},
   "outputs": [],
   "source": []
  },
  {
   "cell_type": "code",
   "execution_count": null,
   "id": "c4653a06",
   "metadata": {},
   "outputs": [],
   "source": []
  },
  {
   "cell_type": "code",
   "execution_count": null,
   "id": "2ad3a1f3",
   "metadata": {},
   "outputs": [],
   "source": []
  },
  {
   "cell_type": "code",
   "execution_count": null,
   "id": "487e3488",
   "metadata": {},
   "outputs": [],
   "source": []
  }
 ],
 "metadata": {
  "kernelspec": {
   "display_name": "Python 3 (ipykernel)",
   "language": "python",
   "name": "python3"
  },
  "language_info": {
   "codemirror_mode": {
    "name": "ipython",
    "version": 3
   },
   "file_extension": ".py",
   "mimetype": "text/x-python",
   "name": "python",
   "nbconvert_exporter": "python",
   "pygments_lexer": "ipython3",
   "version": "3.11.6"
  }
 },
 "nbformat": 4,
 "nbformat_minor": 5
}
