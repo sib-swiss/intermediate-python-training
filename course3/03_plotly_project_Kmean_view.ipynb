{
 "cells": [
  {
   "cell_type": "markdown",
   "id": "4fcd60dc",
   "metadata": {},
   "source": [
    "![examples from the digits dataset](images/digits.png)"
   ]
  },
  {
   "cell_type": "markdown",
   "id": "ff63e2d8",
   "metadata": {},
   "source": [
    "The digits dataset contains 1797 8x8 images of handwritten digits ranging from 0 to 9.\n",
    "\n",
    "It is a classical dataset used to test supervised and unsupervised algorithms.\n",
    "\n",
    "It can be found in scikit-learn's `datasets` module, using the following code:\n",
    "\n",
    "```python\n",
    "from sklearn import datasets\n",
    "digits = datasets.load_digits()\n",
    "```\n",
    "\n",
    "But for convenience we have already packaged it and transformed the raw pixel values using PCA and [UMAP](https://umap-learn.readthedocs.io/en/latest/)."
   ]
  },
  {
   "cell_type": "markdown",
   "id": "bed3100f",
   "metadata": {},
   "source": [
    "The PCA is not always the best for visualization, but it is appropriate for clustering or classification learning.\n",
    "\n",
    "On the other hand, the UMAP is great for visualization, but it is not appropriate for clustering."
   ]
  },
  {
   "cell_type": "code",
   "execution_count": null,
   "id": "070d4547",
   "metadata": {},
   "outputs": [],
   "source": [
    "import pandas as pd\n",
    "\n",
    "df_pca = pd.read_csv( \"data/digits.PCA20.csv\" ,  index_col=0 )\n",
    "df_umap = pd.read_csv( \"data/digits.UMAP.csv\" ,  index_col=0 )"
   ]
  },
  {
   "cell_type": "code",
   "execution_count": null,
   "id": "7e057976",
   "metadata": {},
   "outputs": [],
   "source": [
    "import plotly.express as px\n",
    "px.scatter( x = df_pca.PC0 , y = df_pca.PC1  , color=df_pca.labels.astype(str) )"
   ]
  },
  {
   "cell_type": "code",
   "execution_count": null,
   "id": "d471c83f",
   "metadata": {},
   "outputs": [],
   "source": [
    "px.scatter( x = df_umap.UMAP0 , y = df_umap.UMAP1  , color=df_umap.labels.astype(str) )"
   ]
  },
  {
   "cell_type": "code",
   "execution_count": null,
   "id": "3e342945",
   "metadata": {},
   "outputs": [],
   "source": [
    "## the actual label of the original numbers can be found in the labels column:\n",
    "labels = df_pca.labels\n"
   ]
  },
  {
   "cell_type": "code",
   "execution_count": null,
   "id": "d7b438c0",
   "metadata": {},
   "outputs": [],
   "source": [
    "## this is how you can perform a Kmeans clustering on the 20 first PCA axes\n",
    "\n",
    "from kmeans import Kmeans\n",
    "\n",
    "data = df_pca.loc[ : , [f\"PC{i}\" for i in range(20)] ].to_numpy()\n",
    "cluster_assigment = Kmeans( data , k = 10 ) # here K is 10 -> we produce 10 clusters\n",
    "\n",
    "cluster_assigment ## array containing the cluster assignment of each point`"
   ]
  },
  {
   "cell_type": "markdown",
   "id": "48b5c326",
   "metadata": {},
   "source": [
    "> NB: the clusters produced by the Kmean algorithm will be labelled arbitrarily from 0 to 9, without expectation that these correspond to the actual label of the number (eg, the 3s could be in cluster 0 for example)."
   ]
  },
  {
   "cell_type": "code",
   "execution_count": null,
   "id": "d70e69e8",
   "metadata": {},
   "outputs": [],
   "source": [
    "# we can check how the true label correspond to the created clusters with a confusion matrix:\n",
    "pd.crosstab( labels , cluster_assigment )"
   ]
  },
  {
   "cell_type": "markdown",
   "id": "f52fbfe9",
   "metadata": {},
   "source": [
    "## Goal: \n",
    "\n",
    " * make an interactive vizualization which displays the UMAP data, the original labels, and the clusters proposed by a Kmeans on the PCA data\n",
    "\n",
    "extra stuff:\n",
    " * add a slider or dropdown to change the value of K (you will have to pre-compute the K-means for several values of K)\n",
    " * add a button to switch between UMAP view and PCA view"
   ]
  },
  {
   "cell_type": "code",
   "execution_count": null,
   "id": "df71b352",
   "metadata": {},
   "outputs": [],
   "source": []
  },
  {
   "cell_type": "code",
   "execution_count": null,
   "id": "3d56f40b",
   "metadata": {},
   "outputs": [],
   "source": []
  },
  {
   "cell_type": "code",
   "execution_count": null,
   "id": "14a711b4",
   "metadata": {},
   "outputs": [],
   "source": []
  },
  {
   "cell_type": "code",
   "execution_count": null,
   "id": "50974aca",
   "metadata": {},
   "outputs": [],
   "source": []
  },
  {
   "cell_type": "code",
   "execution_count": null,
   "id": "ddcd1e4d",
   "metadata": {},
   "outputs": [],
   "source": []
  },
  {
   "cell_type": "code",
   "execution_count": null,
   "id": "312b718c",
   "metadata": {},
   "outputs": [],
   "source": []
  },
  {
   "cell_type": "markdown",
   "id": "d98d930e",
   "metadata": {},
   "source": [
    "## proposed corrections"
   ]
  },
  {
   "cell_type": "markdown",
   "id": "78997ad5",
   "metadata": {},
   "source": [
    "preamble: utility fonction to get colors"
   ]
  },
  {
   "cell_type": "code",
   "execution_count": 3,
   "id": "56b9351a",
   "metadata": {},
   "outputs": [],
   "source": [
    "# %load -r -23 solutions/solution_kmeans_plotly"
   ]
  },
  {
   "cell_type": "markdown",
   "id": "6493a809",
   "metadata": {},
   "source": [
    "Basic version "
   ]
  },
  {
   "cell_type": "code",
   "execution_count": null,
   "id": "17e688d6",
   "metadata": {},
   "outputs": [],
   "source": [
    "# %load -r 24-50 solutions/solution_kmeans_plotly"
   ]
  },
  {
   "cell_type": "markdown",
   "id": "4c77ea1b",
   "metadata": {},
   "source": [
    "Version with a slider:"
   ]
  },
  {
   "cell_type": "code",
   "execution_count": null,
   "id": "c11c3a94",
   "metadata": {},
   "outputs": [],
   "source": [
    "# %load -r 52-109 solutions/solution_kmeans_plotly"
   ]
  },
  {
   "cell_type": "markdown",
   "id": "0c42507e",
   "metadata": {},
   "source": [
    "version with a slider (controlling K) and a dropdown menu (showing UMAP or PCA)"
   ]
  },
  {
   "cell_type": "code",
   "execution_count": null,
   "id": "8dc47f47",
   "metadata": {},
   "outputs": [],
   "source": [
    "# %load -r 110- solutions/solution_kmeans_plotly"
   ]
  }
 ],
 "metadata": {
  "kernelspec": {
   "display_name": "Python 3 (ipykernel)",
   "language": "python",
   "name": "python3"
  },
  "language_info": {
   "codemirror_mode": {
    "name": "ipython",
    "version": 3
   },
   "file_extension": ".py",
   "mimetype": "text/x-python",
   "name": "python",
   "nbconvert_exporter": "python",
   "pygments_lexer": "ipython3",
   "version": "3.11.6"
  }
 },
 "nbformat": 4,
 "nbformat_minor": 5
}
