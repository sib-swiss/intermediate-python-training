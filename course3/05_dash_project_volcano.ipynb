{
 "cells": [
  {
   "cell_type": "markdown",
   "id": "89389757",
   "metadata": {},
   "source": [
    "Using a table of differential expression and another containing normalized counts,\n",
    "\n",
    "build upon the volcano plot we have made before to produce a dash app which displays normalized count data when a gene is clicked upon in the volcano.\n",
    "\n",
    "Example result:\n",
    "\n",
    "![volcano dash app example](images/volcano_dash.gif)\n",
    "\n",
    "\n",
    "Do not hesitate to experiment different ways to visually organize this app, to represent the data, or add visualization options.\n",
    "\n",
    "Ideas of possible extensions:\n",
    " * change the p-value / log Fold change threshold\n",
    " * display a table of significantly DE genes\n",
    " * add a download button to download a table of significantly DE genes\n",
    " * search bar to search for your favorite gene\n",
    " * ...\n",
    " "
   ]
  },
  {
   "cell_type": "code",
   "execution_count": null,
   "id": "f6c6dd9f",
   "metadata": {},
   "outputs": [],
   "source": [
    "import pandas as pd\n",
    "\n",
    "\n",
    "df = pd.read_csv( 'data/Ruhland2016.DESeq2.results.csv' , index_col=0)\n",
    "df.head()"
   ]
  },
  {
   "cell_type": "code",
   "execution_count": null,
   "id": "0b43c32c",
   "metadata": {},
   "outputs": [],
   "source": [
    "df_count = pd.read_csv( \"data/Ruhland2016.norm_counts.csv\" , index_col= 0 )\n",
    "\n",
    "df_count.head()"
   ]
  },
  {
   "cell_type": "markdown",
   "id": "5e8d83ef",
   "metadata": {},
   "source": []
  },
  {
   "cell_type": "code",
   "execution_count": null,
   "id": "08757911",
   "metadata": {},
   "outputs": [],
   "source": []
  },
  {
   "cell_type": "code",
   "execution_count": null,
   "id": "1d182430",
   "metadata": {},
   "outputs": [],
   "source": []
  },
  {
   "cell_type": "code",
   "execution_count": null,
   "id": "4036164c",
   "metadata": {},
   "outputs": [],
   "source": []
  },
  {
   "cell_type": "markdown",
   "id": "a592c2fb",
   "metadata": {},
   "source": [
    "Solution:"
   ]
  },
  {
   "cell_type": "code",
   "execution_count": null,
   "id": "c148afb5",
   "metadata": {},
   "outputs": [],
   "source": [
    "# %load solutions/solution_dash_volcano.py"
   ]
  },
  {
   "cell_type": "code",
   "execution_count": null,
   "id": "1c4753bc-dc77-40e5-ae0b-a3caddfe1348",
   "metadata": {},
   "outputs": [],
   "source": []
  }
 ],
 "metadata": {
  "kernelspec": {
   "display_name": "Python 3 (ipykernel)",
   "language": "python",
   "name": "python3"
  },
  "language_info": {
   "codemirror_mode": {
    "name": "ipython",
    "version": 3
   },
   "file_extension": ".py",
   "mimetype": "text/x-python",
   "name": "python",
   "nbconvert_exporter": "python",
   "pygments_lexer": "ipython3",
   "version": "3.11.6"
  }
 },
 "nbformat": 4,
 "nbformat_minor": 5
}
