{
 "cells": [
  {
   "cell_type": "markdown",
   "id": "89389757",
   "metadata": {},
   "source": [
    "Using a table of differential expression and another containing normalized counts,\n",
    "\n",
    "build upon the volcano plot we have made before to produce a dash app which displays normalized count data when a gene is clicked upon in the volcano.\n",
    "\n",
    "Example result:\n",
    "\n",
    "![volcano dash app example](images/volcano_dash.gif)\n",
    "\n",
    "\n",
    "Do not hesitate to experiment different ways to visually organize this app, to represent the data, or add visualization options.\n",
    "\n",
    "Ideas of possible extensions:\n",
    " * change the p-value / log Fold change threshold\n",
    " * display a table of significantly DE genes\n",
    " * add a download button to download a table of significantly DE genes\n",
    " * search bar to search for your favorite gene\n",
    " * ...\n",
    " "
   ]
  },
  {
   "cell_type": "code",
   "execution_count": null,
   "id": "f6c6dd9f",
   "metadata": {},
   "outputs": [],
   "source": [
    "import pandas as pd\n",
    "\n",
    "\n",
    "df = pd.read_csv( 'data/Ruhland2016.DESeq2.results.csv' , index_col=0)\n",
    "df.head()"
   ]
  },
  {
   "cell_type": "code",
   "execution_count": null,
   "id": "0b43c32c",
   "metadata": {},
   "outputs": [],
   "source": [
    "df_count = pd.read_csv( \"data/Ruhland2016.norm_counts.csv\" , index_col= 0 )\n",
    "\n",
    "df_count.head()"
   ]
  },
  {
   "cell_type": "markdown",
   "id": "5e8d83ef",
   "metadata": {},
   "source": []
  },
  {
   "cell_type": "code",
   "execution_count": null,
   "id": "08757911",
   "metadata": {},
   "outputs": [],
   "source": []
  },
  {
   "cell_type": "code",
   "execution_count": null,
   "id": "1d182430",
   "metadata": {},
   "outputs": [],
   "source": []
  },
  {
   "cell_type": "code",
   "execution_count": null,
   "id": "4036164c",
   "metadata": {},
   "outputs": [],
   "source": []
  },
  {
   "cell_type": "markdown",
   "id": "a592c2fb",
   "metadata": {},
   "source": [
    "Solution:"
   ]
  },
  {
   "cell_type": "code",
   "execution_count": null,
   "id": "c148afb5",
   "metadata": {},
   "outputs": [],
   "source": [
    "# %load solutions/solution_dash_volcano.py\n",
    "from dash import Dash, html, dcc, callback, Output, Input\n",
    "import dash_bootstrap_components as dbc\n",
    "import plotly.express as px\n",
    "import plotly.graph_objects as go\n",
    "\n",
    "import pandas as pd\n",
    "import numpy as np\n",
    "\n",
    "\n",
    "\n",
    "def make_volcano_plot( df ):\n",
    "    colors = np.array(['lightgrey','blue','red'])[ 1*(df.padj<0.01)*(df.log2FoldChange.abs()>1)*(1+(df.log2FoldChange>0)) ]\n",
    "\n",
    "    fig = go.Figure()\n",
    "    fig.add_trace( go.Scatter( x = df.log2FoldChange , y=df.padj , \n",
    "                               mode='markers',\n",
    "                               marker_color = colors ,\n",
    "                               hovertemplate = \"gene name\\t: %{text}<br>\"+\n",
    "                                               \"logFC\\t\\t: %{x:.1f}\",\n",
    "                               text = df.gene_name,\n",
    "                               customdata = df.index ) )\n",
    "\n",
    "    fig.update_yaxes(type='log',autorange=\"reversed\", exponentformat = 'power',\n",
    "                     title_text = 'adjusted p-value')\n",
    "    fig.update_xaxes(title_text = 'log2 Fold Change')\n",
    "    fig.add_hline(y=0.01, line_dash=\"dash\")\n",
    "    fig.add_vline(x=-1, line_dash=\"dash\")\n",
    "    fig.add_vline(x=+1, line_dash=\"dash\")\n",
    "\n",
    "    fig.update_layout(clickmode='event+select')\n",
    "    \n",
    "    return fig\n",
    "\n",
    "\n",
    "df = pd.read_csv( 'data/Ruhland2016.DESeq2.results.csv' , index_col=0)\n",
    "df_count = pd.read_csv( \"data/Ruhland2016.norm_counts.csv\" , index_col= 0 )\n",
    "df_count_t = df_count.transpose()\n",
    "df_count_t['condition'] = [ x[:-1] for x in  df_count_t.index ]\n",
    "\n",
    "fig_volcano = make_volcano_plot( df )\n",
    "fig_volcano\n",
    "\n",
    "external_stylesheets = [dbc.themes.CERULEAN]\n",
    "app = Dash(\"NAME\", external_stylesheets=external_stylesheets)\n",
    "\n",
    "\n",
    "\n",
    "\n",
    "row = html.Div(\n",
    "    [\n",
    "        dbc.Row(\n",
    "            [\n",
    "                dbc.Col(dcc.Graph(id='volcano-plot',figure=fig_volcano)),\n",
    "                dbc.Col(dcc.Graph(id='graph-content'))\n",
    "            ]\n",
    "        )\n",
    "    ]\n",
    ")\n",
    "app.layout = dbc.Container([row] , fluid = True)\n",
    "\n",
    "\n",
    "@callback(\n",
    "    Output('graph-content', 'figure'),\n",
    "    Input('volcano-plot', 'clickData')\n",
    ")\n",
    "def update_graph(clickData):\n",
    "    \n",
    "    ## I add a \"default\" behavior for when the click is None at the beginnig\n",
    "    if clickData is None:\n",
    "        return px.strip( df_count_t , x = 'condition' , y = 'ENSMUSG00000100480' )\n",
    "    gid = clickData['points'][0]['customdata']\n",
    "    label = clickData['points'][0]['text']\n",
    "    logFC = clickData['points'][0]['x']\n",
    "    padj = clickData['points'][0]['y']\n",
    "\n",
    "    print(\"click:\" , clickData)\n",
    "    print(\"click:\" , gid)\n",
    "\n",
    "    fig2 = px.strip( df_count_t , \n",
    "                    x = 'condition' , y = gid,\n",
    "                    title=\"log2-FC {:.1f} - adjusted p-value {:.1e}\".format( logFC , padj ) )\n",
    "    fig2.update_yaxes(title_text = label )    \n",
    "\n",
    "    return fig2\n",
    "    \n",
    "    \n",
    "app.run(debug=True , host='127.0.0.1'  , port = 8053)\n"
   ]
  },
  {
   "cell_type": "code",
   "execution_count": null,
   "id": "1c4753bc-dc77-40e5-ae0b-a3caddfe1348",
   "metadata": {},
   "outputs": [],
   "source": []
  }
 ],
 "metadata": {
  "kernelspec": {
   "display_name": "Python 3 (ipykernel)",
   "language": "python",
   "name": "python3"
  },
  "language_info": {
   "codemirror_mode": {
    "name": "ipython",
    "version": 3
   },
   "file_extension": ".py",
   "mimetype": "text/x-python",
   "name": "python",
   "nbconvert_exporter": "python",
   "pygments_lexer": "ipython3",
   "version": "3.12.6"
  }
 },
 "nbformat": 4,
 "nbformat_minor": 5
}
