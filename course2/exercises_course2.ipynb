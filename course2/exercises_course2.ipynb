{
 "cells": [
  {
   "cell_type": "markdown",
   "metadata": {},
   "source": [
    "# Exercises course 2 - Optimizing Python Code\n",
    "------------------------------\n",
    "\n",
    "This notebook contains exercises for Intermediate Python Course 2 - Optimizing Python Code for Better Performance.\n",
    "\n",
    "<br>\n",
    "<br>\n",
    "\n",
    "# Exercises Notebook 2 - optimizing python code\n",
    "------------------------------------------------------------------------"
   ]
  },
  {
   "cell_type": "markdown",
   "metadata": {},
   "source": [
    "## Exercise 2.1 - Numpy optimization\n",
    "\n",
    "Consider the following native python code, which computes the integral of `x**2 - x`.  "
   ]
  },
  {
   "cell_type": "code",
   "execution_count": null,
   "metadata": {},
   "outputs": [],
   "source": [
    "def integrate_f_native(a, b, N):\n",
    "    s = 0\n",
    "    dx = (b - a) / N\n",
    "    for i in range(N):\n",
    "        x = a + i * dx\n",
    "        s += x ** 2 - x\n",
    "    return s * dx\n",
    "\n",
    "# Benchmark the function's runtime.\n",
    "%timeit -n 10 -r 3 integrate_f_native(0, 2, 1_000_000)\n",
    "\n",
    "# Test run.\n",
    "integrate_f_native(0, 2, 1_000_000)"
   ]
  },
  {
   "cell_type": "markdown",
   "metadata": {},
   "source": [
    "    \n",
    "**Your task** is to make it faster using `numpy`. Remember to make sure that you get (almost) the same results.  \n",
    "**Hints:**\n",
    "* `np.arange(start, stop, step)` is a function that creates an array from start to stop by increments\n",
    "  of step.  \n",
    "  Example: `np.arange(1, 1.5, 0.075)`\n",
    "* Numpy allows you to carry-out element-wise arithmetic opperations on entire arrays.  \n",
    "  Examples:\n",
    "  * `np.arange(0, 10) * 2`\n",
    "  * `np.arange(10, 20) - np.arange(0, 10)`"
   ]
  },
  {
   "cell_type": "code",
   "execution_count": null,
   "metadata": {},
   "outputs": [],
   "source": []
  },
  {
   "cell_type": "markdown",
   "metadata": {},
   "source": [
    "<br>\n",
    "<br>\n",
    "\n",
    "### Solution:\n",
    "\n",
    "Uncomment and run the cell below to show the solution.\n"
   ]
  },
  {
   "cell_type": "code",
   "execution_count": null,
   "metadata": {},
   "outputs": [],
   "source": [
    "# %load solutions/solution_21.py"
   ]
  },
  {
   "cell_type": "markdown",
   "metadata": {},
   "source": [
    "<br>\n",
    "<br>\n",
    "<br>\n",
    "\n",
    "\n",
    "## Exercise 2.2 - Numba/Numpy/Cython optimization\n",
    "\n",
    "Try to optimize the following functions using `numpy`, `numba` or `cython`, and benchmark your optimized version against the original one."
   ]
  },
  {
   "cell_type": "code",
   "execution_count": null,
   "metadata": {},
   "outputs": [],
   "source": [
    "def sequence_similarity(seq_A, seq_B):\n",
    "    \"\"\"Compute similarity between 2 sequence as the fraction\n",
    "    of positions where they have the same value.\n",
    "    \"\"\"\n",
    "    l = len(seq_A)\n",
    "    similarity = 0\n",
    "    for i in range(l):\n",
    "        if seq_A[i] == seq_B[i]:\n",
    "            similarity += 1\n",
    "    return similarity / l\n",
    "\n",
    "def sequence_similarity_mat(lseq):\n",
    "    \"\"\"Compute similarity between all sequence pairs.\"\"\"\n",
    "    \n",
    "    # Create a matrix filled with 0s that we will then\n",
    "    # use to store sequence similarity values.\n",
    "    sim_matrix = np.zeros((len(lseq), len(lseq)))\n",
    "    \n",
    "    # Compute sequence similarity between all pairs of sequences.\n",
    "    for i, s1 in enumerate(lseq):\n",
    "        for j, s2 in enumerate(lseq):\n",
    "            sim_matrix[i, j] = sequence_similarity(s1, s2)\n",
    "    return sim_matrix\n"
   ]
  },
  {
   "cell_type": "markdown",
   "metadata": {},
   "source": [
    "* You can use the following line of code to generate some data to benchmark the functions:"
   ]
  },
  {
   "cell_type": "code",
   "execution_count": null,
   "metadata": {},
   "outputs": [],
   "source": [
    "import numpy as np\n",
    "\n",
    "# Generate 100 random sequences of 500 nucleotides each.\n",
    "lseq = [''.join(np.random.choice(list(\"ATGC\"), 500)) for x in range(100)]"
   ]
  },
  {
   "cell_type": "markdown",
   "metadata": {},
   "source": [
    "* And this is how you can run the benchmark:"
   ]
  },
  {
   "cell_type": "code",
   "execution_count": null,
   "metadata": {},
   "outputs": [],
   "source": [
    "%timeit -n 10 -r 3 sequence_similarity_mat(lseq)"
   ]
  },
  {
   "cell_type": "markdown",
   "metadata": {},
   "source": [
    "<br>\n",
    "\n",
    "**Warning:** this exercise is *not* necessarily very easy.\n",
    "* You will likely have to try different things and delve a bit in the libraries' online\n",
    "  documentations to get good results.\n",
    "* Here are some **hints:**\n",
    "  * **Numpy hint:** to transform string `s` into an array: `np.array(list(s))`.\n",
    "  * **Cython hint:**\n",
    "    * Simple solution: the typing of string is `str`.\n",
    "    * More complex solution: we can use C stuff such as `char*`, but then you need to convert the python `str`\n",
    "      to unicode, using for instance something like: `c_compatible_string = python_string.encode(\"UTF-8\")`"
   ]
  },
  {
   "cell_type": "code",
   "execution_count": null,
   "metadata": {},
   "outputs": [],
   "source": []
  },
  {
   "cell_type": "markdown",
   "metadata": {},
   "source": [
    "<br>\n",
    "<br>\n",
    "\n",
    "### Solution:\n",
    "\n",
    "Uncomment and run the cells below to show the solution.\n",
    "\n",
    "* **Numba** solution:"
   ]
  },
  {
   "cell_type": "code",
   "execution_count": null,
   "metadata": {},
   "outputs": [],
   "source": [
    "# %load solutions/solution_22_numba.py"
   ]
  },
  {
   "cell_type": "markdown",
   "metadata": {},
   "source": [
    "* **Numpy** solution:"
   ]
  },
  {
   "cell_type": "code",
   "execution_count": null,
   "metadata": {},
   "outputs": [],
   "source": [
    "# %load solutions/solution_22_numpy.py"
   ]
  },
  {
   "cell_type": "markdown",
   "metadata": {},
   "source": [
    "* **Cython, simple** solution:"
   ]
  },
  {
   "cell_type": "code",
   "execution_count": null,
   "metadata": {},
   "outputs": [],
   "source": [
    "# Note: if not already done, make sure to run this command in its own cell.\n",
    "%load_ext Cython"
   ]
  },
  {
   "cell_type": "code",
   "execution_count": null,
   "metadata": {},
   "outputs": [],
   "source": [
    "# %load -r 1-43 solutions/solution_22_cython_simple.py"
   ]
  },
  {
   "cell_type": "code",
   "execution_count": null,
   "metadata": {},
   "outputs": [],
   "source": [
    "# %load -r 44- solutions/solution_22_cython_simple.py"
   ]
  },
  {
   "cell_type": "markdown",
   "metadata": {},
   "source": [
    "* **Cython, more complex** solution:"
   ]
  },
  {
   "cell_type": "code",
   "execution_count": null,
   "metadata": {},
   "outputs": [],
   "source": [
    "# %load -r 1-52 solutions/solution_22_cython_complex.py"
   ]
  },
  {
   "cell_type": "code",
   "execution_count": null,
   "metadata": {},
   "outputs": [],
   "source": [
    "# %load -r 53- solutions/solution_22_cython_complex.py"
   ]
  },
  {
   "cell_type": "markdown",
   "metadata": {},
   "source": [
    "<br>\n",
    "<br>\n",
    "<br>\n",
    "\n",
    "\n",
    "# Exercises Notebook 3 - working with processes / threads\n",
    "--------------------------------------------------------------------------------------\n",
    "\n",
    "## Exercise 3.1\n",
    "\n",
    " * Re-think the `integrate_f_native` function given below (it is the same as we saw in Notebook 3),\n",
    "   so it is parallelizable in a few large tasks (rather than in a lot of small tasks as we have done\n",
    "   in Notebook 3)?\n",
    " * Implement your chosen solution.\n",
    " "
   ]
  },
  {
   "cell_type": "code",
   "execution_count": null,
   "metadata": {},
   "outputs": [],
   "source": [
    "def f_native(x):\n",
    "    return x ** 2 - x\n",
    "\n",
    "def integrate_f_native(a, b, N):\n",
    "    s = 0\n",
    "    dx = (b - a) / N\n",
    "    for i in range(N):\n",
    "        s += f_native(a + i * dx)\n",
    "    return s * dx\n",
    "\n",
    "# Test run and benchmark our function.\n",
    "print(integrate_f_native(0, 2, 100))\n",
    "%timeit -n 3 -r 7 _ = integrate_f_native(0, 2, 1000000)"
   ]
  },
  {
   "cell_type": "markdown",
   "metadata": {},
   "source": [
    "<br>\n",
    "\n",
    "Your implementation here..."
   ]
  },
  {
   "cell_type": "code",
   "execution_count": null,
   "metadata": {},
   "outputs": [],
   "source": []
  },
  {
   "cell_type": "markdown",
   "metadata": {},
   "source": [
    "<br>\n",
    "<br>\n",
    "\n",
    "### Solution:\n",
    "\n",
    "Uncomment and run the cells below to show the solution.\n",
    "\n",
    "* Concept / Idea:"
   ]
  },
  {
   "cell_type": "code",
   "execution_count": null,
   "metadata": {},
   "outputs": [],
   "source": [
    "# %load -r -4 solutions/solution_31_multiprocessing.py"
   ]
  },
  {
   "cell_type": "markdown",
   "metadata": {},
   "source": [
    "* Function definitions:"
   ]
  },
  {
   "cell_type": "code",
   "execution_count": null,
   "metadata": {},
   "outputs": [],
   "source": [
    "# %load -r 5-35 solutions/solution_31_multiprocessing.py"
   ]
  },
  {
   "cell_type": "markdown",
   "metadata": {},
   "source": [
    "* Application:"
   ]
  },
  {
   "cell_type": "code",
   "execution_count": null,
   "metadata": {},
   "outputs": [],
   "source": [
    "# %load -r 36- solutions/solution_31_multiprocessing.py"
   ]
  },
  {
   "cell_type": "code",
   "execution_count": null,
   "metadata": {},
   "outputs": [],
   "source": []
  }
 ],
 "metadata": {
  "kernelspec": {
   "display_name": "Python 3 (ipykernel)",
   "language": "python",
   "name": "python3"
  },
  "language_info": {
   "codemirror_mode": {
    "name": "ipython",
    "version": 3
   },
   "file_extension": ".py",
   "mimetype": "text/x-python",
   "name": "python",
   "nbconvert_exporter": "python",
   "pygments_lexer": "ipython3",
   "version": "3.13.5"
  }
 },
 "nbformat": 4,
 "nbformat_minor": 4
}
