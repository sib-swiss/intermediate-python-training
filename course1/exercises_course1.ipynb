{
 "cells": [
  {
   "cell_type": "markdown",
   "metadata": {},
   "source": [
    "# Exercises course 1 - Data manipulation, representation and statistics\n",
    "-------------------------------------------------------------------------------------------------------\n",
    "\n",
    "This notebook contains exercises for Intermediate Python Course 1 - data manipulation, representation and statistics.\n",
    "\n",
    "<br>\n",
    "<br>\n",
    "\n",
    "# Notebook 1 - Data manipulation\n",
    "-------------------------------------------------"
   ]
  },
  {
   "cell_type": "markdown",
   "metadata": {},
   "source": [
    "## Exercise 1.1\n",
    "\n",
    "Load the Swiss census from 1880 dataset located in `data/swiss_census_1880.csv`.\n",
    "The main columns of this dataset are:\n",
    "\n",
    " * **town name**\n",
    " * **Total** : total number of inhabitants in the town\n",
    " * **canton** : 2-letter code of the town's canton\n",
    " *  'Swiss', 'Foreigner','Male', 'Female', '0-14 y.o.', '15-59 y.o.', '60+ y.o.', 'Reformed',\n",
    "       'Catholic', 'Other', 'German speakers', 'French speakers', 'Italian speakers', 'Romansch speakers', 'Non-national tongue speakers' : number of inhabitants of the town belonging to that criterion\n",
    "\n",
    "\n",
    "\n",
    "Perform the following tasks:\n",
    "\n",
    "1. Load the 1880 census dataset as a pandas DataFrame.\n",
    "2. Subset the DataFrame to keep only the following columns:  \n",
    "   `\"town name\", \"Total\", \"German speakers\", \"French speakers\", \"Italian speakers\",\n",
    "   \"Romansch speakers\", \"canton\"`.\n",
    "2. How many people live in the least populated town ?\n",
    "3. Which fraction of the population lives in a town with more than 1'000 inhabitants?\n",
    "   **Hint:** to make things easier, you can first compute how many people live in a town larger\n",
    "   than 1'000 inhabitants.\n",
    "4. **If you have the time:** how many towns have more than 50% of their population speaking french?\n"
   ]
  },
  {
   "cell_type": "code",
   "execution_count": null,
   "metadata": {},
   "outputs": [],
   "source": []
  },
  {
   "cell_type": "markdown",
   "metadata": {},
   "source": [
    "<br>\n",
    "\n",
    "**Solution:**\n",
    "\n",
    "1. Load the data as a pandas DataFrame."
   ]
  },
  {
   "cell_type": "code",
   "execution_count": null,
   "metadata": {},
   "outputs": [],
   "source": [
    "# %load -r -7 solutions/solution_11.py"
   ]
  },
  {
   "cell_type": "markdown",
   "metadata": {},
   "source": [
    "<br>\n",
    "\n",
    "2. Subset the DataFrame to keep only certain columns."
   ]
  },
  {
   "cell_type": "code",
   "execution_count": null,
   "metadata": {},
   "outputs": [],
   "source": [
    "# %load -r 9-22 solutions/solution_11.py"
   ]
  },
  {
   "cell_type": "markdown",
   "metadata": {},
   "source": [
    "<br>\n",
    "\n",
    "3. How many people live in the least populated town ?"
   ]
  },
  {
   "cell_type": "code",
   "execution_count": null,
   "metadata": {},
   "outputs": [],
   "source": [
    "# %load -r 24-31 solutions/solution_11.py"
   ]
  },
  {
   "cell_type": "markdown",
   "metadata": {},
   "source": [
    "<br>\n",
    "\n",
    "4. Which fraction of the population live in a town with more than 1'000 inhabitants?\n",
    "    *hint:* as a first step, compute how many people live in a town larger than 1'000 inhabitants"
   ]
  },
  {
   "cell_type": "code",
   "execution_count": null,
   "metadata": {},
   "outputs": [],
   "source": [
    "# %load -r 33-44 solutions/solution_11.py"
   ]
  },
  {
   "cell_type": "markdown",
   "metadata": {},
   "source": [
    "<br>\n",
    "\n",
    "5. **If you have the time:** how many town have more than 50% of their population speaking french?"
   ]
  },
  {
   "cell_type": "code",
   "execution_count": null,
   "metadata": {},
   "outputs": [],
   "source": [
    "# %load -r 46- solutions/solution_11.py"
   ]
  },
  {
   "cell_type": "markdown",
   "metadata": {},
   "source": [
    "<br>\n",
    "<br>\n",
    "\n",
    "## Additional exercise 1.2\n",
    "\n",
    "In notebook 01 of this course, we have seen how to apply a custom function to a DataFrame column using the `.map()` method.\n",
    "\n",
    "In this exercise, your task is to **write your own implementation of the `.mean()`** method of DataFrame, then apply it to the `Age` and `Fare` columns of a the Titanic dataset. Proceed as follows:\n",
    "\n",
    "1. Load the Titanic dataset (`data/titanic.csv`) as a pandas DataFrame.\n",
    "2. Write your own implementation of a \"mean\" function (let's call it `custom_mean()`), which computes\n",
    "   the mean value of a sequence of values.  \n",
    "   **Important:** your implementation should be able to skip `NA` values.  \n",
    "   **Hint:** to detect whether a value is `NA` or not, you can use `math.isnan(x)` from the `math` module.\n",
    "   <br>\n",
    "   \n",
    "3. Apply your `custom_mean()` function to the `Age` and `Fare` columns of the Titanic dataset using\n",
    "   the `.apply()` method.  \n",
    "4. Compare your result to those from the built-in `DataFrame.mean()` method provided by pandas.\n"
   ]
  },
  {
   "cell_type": "code",
   "execution_count": null,
   "metadata": {},
   "outputs": [],
   "source": []
  },
  {
   "cell_type": "markdown",
   "metadata": {},
   "source": [
    "<br>\n",
    "\n",
    "### Solution:\n",
    "Uncomment and run the cell below to show the solution."
   ]
  },
  {
   "cell_type": "code",
   "execution_count": null,
   "metadata": {},
   "outputs": [],
   "source": [
    "# %load solutions/solution_12.py"
   ]
  },
  {
   "cell_type": "markdown",
   "metadata": {},
   "source": [
    "\n",
    "<br>\n",
    "<br>\n",
    "<br>\n",
    "\n",
    "## Additional exercise 1.3\n",
    "\n",
    "Using the Titanic dataset located in `data/titanic.csv`, perform the following tasks:\n",
    "\n",
    "1. Load the data as a pandas DataFrame.\n",
    "2. Select the passengers that survived. How many are males/females?\n",
    "3. Create a new column `Title` in the `DataFrame` representing the title by which passengers should\n",
    "   be addressed. The title can be found in the passenger name and is the only word ending with a `.`\n",
    "   \n",
    "   **Hint for part 3:** there is no *easy, one-line* answer. Create a function to extract the\n",
    "   title from the name and work your way from there.\n",
    "   "
   ]
  },
  {
   "cell_type": "code",
   "execution_count": null,
   "metadata": {},
   "outputs": [],
   "source": []
  },
  {
   "cell_type": "markdown",
   "metadata": {},
   "source": [
    "<br>\n",
    "\n",
    "### Solution:\n",
    "Uncomment and run the cells below to show the solution.\n",
    "\n",
    "1. Load the data as a pandas DataFrame."
   ]
  },
  {
   "cell_type": "code",
   "execution_count": null,
   "metadata": {},
   "outputs": [],
   "source": [
    "# %load -r 1-5 solutions/solution_13.py"
   ]
  },
  {
   "cell_type": "markdown",
   "metadata": {},
   "source": [
    "<br>\n",
    "\n",
    "2. Select passengers which survived. How many are males/females?"
   ]
  },
  {
   "cell_type": "code",
   "execution_count": null,
   "metadata": {},
   "outputs": [],
   "source": [
    "# %load -r 6-22 solutions/solution_13.py"
   ]
  },
  {
   "cell_type": "code",
   "execution_count": null,
   "metadata": {},
   "outputs": [],
   "source": [
    "# %load -r 23-27 solutions/solution_13.py"
   ]
  },
  {
   "cell_type": "markdown",
   "metadata": {},
   "source": [
    "<br>\n",
    "\n",
    "3. Create a new column named \"Title\" in the DataFrame, representing the title by which\n",
    "   passengers should be addressed."
   ]
  },
  {
   "cell_type": "code",
   "execution_count": null,
   "metadata": {},
   "outputs": [],
   "source": [
    "# %load -r 28- solutions/solution_13.py"
   ]
  },
  {
   "cell_type": "markdown",
   "metadata": {},
   "source": [
    "<br>\n",
    "<br>\n",
    "<br>\n",
    "\n",
    "\n",
    "# Notebook 2 - Data description and representation\n",
    "---------------------------------------------------------------------------\n",
    "\n",
    "## Exercise 2.1 - Histograms\n",
    "\n",
    "Using the Titanic dataset from `data/titanic.csv`:\n",
    "\n",
    "1. Plot the `Age` distribution among first class passengers. Try to choose an appropriate mode of \n",
    "   representation (histogram? density line? number of bins?).\n",
    "2. Make a figure with 3 panels. In the panels, plot the histogram of the `Fare` among passengers in\n",
    "   the first, second, and third class, respectively.\n",
    "\n",
    "<br>\n",
    "\n",
    "To load the dataset and the different modules that you will need, you can copy/paste the following:\n",
    "```py\n",
    "import pandas as pd\n",
    "import seaborn as sns\n",
    "import numpy as np\n",
    "import matplotlib.pyplot as plt\n",
    "\n",
    "# Load the data as DataFrame.\n",
    "df = pd.read_csv(\"data/titanic.csv\")\n",
    "```"
   ]
  },
  {
   "cell_type": "code",
   "execution_count": null,
   "metadata": {},
   "outputs": [],
   "source": []
  },
  {
   "cell_type": "markdown",
   "metadata": {},
   "source": [
    "<br>\n",
    "\n",
    "### Solution:\n",
    "Uncomment and run the cell below to show the solution.\n",
    "\n",
    "1. Plot the Age distribution among first class passengers."
   ]
  },
  {
   "cell_type": "code",
   "execution_count": null,
   "metadata": {},
   "outputs": [],
   "source": [
    "# %load -r 1-16 solutions/solution_21.py"
   ]
  },
  {
   "cell_type": "markdown",
   "metadata": {},
   "source": [
    "<br>\n",
    "\n",
    "2. Make a figure with 3 panels. "
   ]
  },
  {
   "cell_type": "code",
   "execution_count": null,
   "metadata": {},
   "outputs": [],
   "source": [
    "# %load -r 17- solutions/solution_21.py"
   ]
  },
  {
   "cell_type": "markdown",
   "metadata": {},
   "source": [
    "<br>\n",
    "<br>\n",
    "<br>\n",
    "\n",
    "## Exercise 2.2 - Representing categories\n",
    "\n",
    "Using the 1880 swiss census data found in the file `data/swiss_census_1880.csv`:\n",
    "\n",
    "1. Compute a new column `fraction60+` representing the fraction of 60+ years old people in each town.  \n",
    "   **Hint:** the column `60+ y.o.` contains the number of 60+ years old. The column `Total` contains\n",
    "    the total number of inhabitants.\n",
    "    \n",
    "2. Graphically represent the proportion of people over 60 years old (`60+ y.o.`) across all cantons.\n",
    "   Choose the most appropriate kind of plot."
   ]
  },
  {
   "cell_type": "code",
   "execution_count": null,
   "metadata": {
    "scrolled": false
   },
   "outputs": [],
   "source": []
  },
  {
   "cell_type": "markdown",
   "metadata": {},
   "source": [
    "<br>\n",
    "\n",
    "### Solution:\n",
    "Uncomment and run the cell below to show the solution.\n",
    "\n",
    "1. Compute a new column `fraction60+`."
   ]
  },
  {
   "cell_type": "code",
   "execution_count": null,
   "metadata": {},
   "outputs": [],
   "source": [
    "# %load -r 1-12 solutions/solution_22.py"
   ]
  },
  {
   "cell_type": "markdown",
   "metadata": {},
   "source": [
    "<br>\n",
    "\n",
    "2. Graphically represent the proportion of people more 60 years old."
   ]
  },
  {
   "cell_type": "code",
   "execution_count": null,
   "metadata": {},
   "outputs": [],
   "source": [
    "# %load -r 14- solutions/solution_22.py"
   ]
  },
  {
   "cell_type": "markdown",
   "metadata": {},
   "source": [
    "<br>\n",
    "\n",
    "Of course possibilities are endless. Here is **a more fancy solution**, inspired by [this](https://seaborn.pydata.org/examples/kde_ridgeplot.html) and its [later correction](https://www.pythonfixing.com/2022/02/fixed-python-seaborn-ridge-plot.html)."
   ]
  },
  {
   "cell_type": "code",
   "execution_count": null,
   "metadata": {},
   "outputs": [],
   "source": [
    "# %load solutions/solution_22_fancy.py"
   ]
  },
  {
   "cell_type": "markdown",
   "metadata": {},
   "source": [
    "<br>\n",
    "<br>\n",
    "<br>\n",
    "\n",
    "## Exercise 2.3 - Free-form exercise\n",
    "\n",
    "The goal of this exercise is to **perform an exploration of a dataset** related to heart disease.\n",
    "* In particular, we want to explore the relationship between the `target` variable - whether patient\n",
    "  has a heart disease or not - and several other variables such as cholesterol level, age, ...\n",
    "* The data is present in the file `'data/heartData_simplified.csv'`, which is a cleaned and simplified\n",
    "  version of the [UCI heart disease data set](https://archive.ics.uci.edu/ml/datasets/heart+Disease).\n",
    "\n",
    "\n",
    "### Description of the dataset columns\n",
    "\n",
    "* `age`: Patient age in years\n",
    "* `sex`: Patient sex\n",
    "* `chol`: Cholesterol level in mg/dl. \n",
    "* `thalach`: Maximum heart rate during the stress test\n",
    "* `oldpeak`: Decrease of the ST segment during exercise according to the same one on rest.\n",
    "* `ca`: Number of main blood vessels coloured by the radioactive dye. The number varies between 0 to 3.\n",
    "* `thal`: Results of the blood flow observed via the radioactive dye.\n",
    "\t* `defect` -> fixed defect (no blood flow in some part of the heart)\n",
    "\t* `normal` -> normal blood flow\n",
    "\t* `reversible` -> reversible defect (a blood flow is observed but it is not normal)\n",
    "* `target`: Whether the patient has a heart disease or not\n",
    "\n",
    "\n",
    "### Instructions\n",
    "\n",
    "As stated earlier, your goal is to explore this data-set. \n",
    "One objective of this would be to diagnose eventual problems in the dataset (outliers, strange values) and prepare further statistical analysis and reporting.\n",
    "\n",
    "To this end you will want to formulate a number of hypothesis that would be interesting to pursue from this data (*e.g.*, is heart disease linked to cholesterol levels), and gather evidence (plots, summary statistics) explaining why this hypothesis seems to be worth testing for.\n",
    "\n",
    "> Note: we do not ask you to perform the statistical testing itself, but you can do it if you feel like it.\n",
    "\n",
    "We will not provide a particular set of precise questions, but here are a few checkpoints to help you get stared:\n",
    "* Read the data as a pandas `DataFrame`.\n",
    "* Compute summary statistics for the different variables.\n",
    "* Eventually, do the same for different subset of the data (for instance, grouping by sex).\n",
    "* Use visualization to help you describe the relationship between the different variables.\n",
    "* Choose a few associations (2?4?) that seems promising and describe them.\n"
   ]
  },
  {
   "cell_type": "code",
   "execution_count": null,
   "metadata": {},
   "outputs": [],
   "source": []
  },
  {
   "cell_type": "markdown",
   "metadata": {},
   "source": [
    "<br>\n",
    "<br>\n",
    "<br>\n",
    "\n",
    "\n",
    "# Extra Notebook - Statistics with python\n",
    "------------------------------------------------------\n",
    "\n",
    "## Exercise 3.1\n",
    "\n",
    "Load the swiss census data from 1880 (available in the file `data/census1880_fractions.csv`) and display its first few rows. You will see that it contains, for each town in Switzerland (a row of the table), the information about the majority religion and the majority language.\n",
    "\n",
    "* Test the association between the majority religion (`majority religion`) and majority language (`majority language`).\n",
    "* **Hint**: to create a contingency table between `colA` and `colB` in `df`:\n",
    "  `table = pd.crosstab(df.colA, df.colB)`\n",
    "* **Additional task, if you have time:**\n",
    "    * How could you make Fisher's test work here?"
   ]
  },
  {
   "cell_type": "code",
   "execution_count": null,
   "metadata": {},
   "outputs": [],
   "source": []
  },
  {
   "cell_type": "markdown",
   "metadata": {},
   "source": [
    "<br>\n",
    "\n",
    "### Solution:\n",
    "Uncomment and run the cell below to show the solution.\n",
    "\n",
    "1. Creating the contingency table."
   ]
  },
  {
   "cell_type": "code",
   "execution_count": null,
   "metadata": {},
   "outputs": [],
   "source": [
    "# %load -r 1-13 solutions/solution_31.py"
   ]
  },
  {
   "cell_type": "markdown",
   "metadata": {},
   "source": [
    "<br>\n",
    "\n",
    "2. Test the association between the majority religion (majority religion) and majority language."
   ]
  },
  {
   "cell_type": "code",
   "execution_count": null,
   "metadata": {},
   "outputs": [],
   "source": [
    "# %load -r 14-21 solutions/solution_31.py"
   ]
  },
  {
   "cell_type": "markdown",
   "metadata": {},
   "source": [
    "<br>\n",
    "\n",
    "3. Additional task: using Fisher's exact test."
   ]
  },
  {
   "cell_type": "code",
   "execution_count": null,
   "metadata": {},
   "outputs": [],
   "source": [
    "# %load -r 22- solutions/solution_31.py"
   ]
  },
  {
   "cell_type": "markdown",
   "metadata": {},
   "source": [
    "<br>\n",
    "<br>\n",
    "<br>\n",
    "\n",
    "## Exercise 3.2 - Free-form exercise\n",
    "\n",
    "Continuing on the free-form exercise from the previous notebook (exercise 2.3), take the few associations (2?4?) which you described in exercise 2.3 and see how you could test/model them.\n",
    "\n",
    "* The data is in the file `data/heartData_simplified.csv`.\n",
    "* Here is a reminder of the description of the dataset columns (see also exercise 2.3):\n",
    "    * `age`: Patient age in years\n",
    "    * `sex`: Patient sex\n",
    "    * `chol`: Cholesterol level in mg/dl. \n",
    "    * `thalach`: Maximum heart rate during the stress test\n",
    "    * `oldpeak`: Decrease of the ST segment during exercise according to the same one on rest.\n",
    "    * `ca`: Number of main blood vessels coloured by the radioactive dye. The number varies between 0 to 3.\n",
    "    * `thal`: Results of the blood flow observed via the radioactive dye.\n",
    "        * `defect` -> fixed defect (no blood flow in some part of the heart)\n",
    "        * `normal` -> normal blood flow\n",
    "        * `reversible` -> reversible defect (a blood flow is observed but it is not normal)\n",
    "    * `target`: Whether the patient has a heart disease or not\n",
    "\n"
   ]
  },
  {
   "cell_type": "code",
   "execution_count": null,
   "metadata": {},
   "outputs": [],
   "source": []
  }
 ],
 "metadata": {
  "kernelspec": {
   "display_name": "Python 3 (ipykernel)",
   "language": "python",
   "name": "python3"
  },
  "language_info": {
   "codemirror_mode": {
    "name": "ipython",
    "version": 3
   },
   "file_extension": ".py",
   "mimetype": "text/x-python",
   "name": "python",
   "nbconvert_exporter": "python",
   "pygments_lexer": "ipython3",
   "version": "3.13.0"
  }
 },
 "nbformat": 4,
 "nbformat_minor": 4
}
