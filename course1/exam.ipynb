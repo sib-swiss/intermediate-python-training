{
 "cells": [
  {
   "cell_type": "markdown",
   "id": "4a00ffcd",
   "metadata": {},
   "source": [
    "\n",
    "# Exam\n",
    "\n",
    "For this course exam, we ask you to send us your work on the free-form exercise, whose instructions we reproduce below.\n",
    "Please send a notebook named **name_surname.ipynb** at wandrille.duchemin [at] unibas.ch **at most 1 week after the end of the course**.\n",
    "\n",
    "<br>\n",
    "<br>\n",
    "<br>\n",
    "\n",
    "\n",
    "The goal of this exercise is to **perform an exploration of a dataset** related to heart disease.\n",
    "* In particular, we want to explore the relationship between the `target` variable - whether patient\n",
    "  has a heart disease or not - and several other variables such as cholesterol level, age, ...\n",
    "* The data is present in the file `'data/heartData_simplified.csv'`, which is a cleaned and simplified\n",
    "  version of the [UCI heart disease data set](https://archive.ics.uci.edu/ml/datasets/heart+Disease).\n",
    "\n",
    "\n",
    "### Description of the dataset columns\n",
    "\n",
    "* `age`: Patient age in years\n",
    "* `sex`: Patient sex\n",
    "* `chol`: Cholesterol level in mg/dl. \n",
    "* `thalach`: Maximum heart rate during the stress test\n",
    "* `oldpeak`: Decrease of the ST segment during exercise according to the same one on rest.\n",
    "* `ca`: Number of main blood vessels coloured by the radioactive dye. The number varies between 0 to 3.\n",
    "* `thal`: Results of the blood flow observed via the radioactive dye.\n",
    "\t* `defect` -> fixed defect (no blood flow in some part of the heart)\n",
    "\t* `normal` -> normal blood flow\n",
    "\t* `reversible` -> reversible defect (a blood flow is observed but it is not normal)\n",
    "* `target`: Whether the patient has a heart disease or not\n",
    "\n",
    "\n",
    "### Instructions\n",
    "\n",
    "As stated earlier, your goal is to explore this data-set. \n",
    "One objective of this would be to diagnose eventual problems in the dataset (outliers, strange values) and prepare further statistical analysis and reporting.\n",
    "\n",
    "To this end you will want to formulate a number of hypothesis that would be interesting to pursue from this data (*e.g.*, is heart disease linked to cholesterol levels), and gather evidence (plots, summary statistics) explaining why this hypothesis seems to be worth testing for.\n",
    "\n",
    "> Note: we do not ask you to perform the statistical testing itself, but you can do it if you feel like it.\n",
    "\n",
    "We will not provide a particular set of precise questions, but here are a few checkpoints to help you get stared:\n",
    "* Read the data as a pandas `DataFrame`.\n",
    "* Compute summary statistics for the different variables.\n",
    "* Eventually, do the same for different subset of the data (for instance, grouping by sex).\n",
    "* Use visualization to help you describe the relationship between the different variables.\n",
    "* Choose a few associations (2?4?) that seems promising and describe them.\n"
   ]
  },
  {
   "cell_type": "code",
   "execution_count": null,
   "id": "c16d9176",
   "metadata": {},
   "outputs": [],
   "source": []
  }
 ],
 "metadata": {
  "kernelspec": {
   "display_name": "Environment (conda_darpy2025)",
   "language": "python",
   "name": "conda_darpy2025"
  },
  "language_info": {
   "codemirror_mode": {
    "name": "ipython",
    "version": 3
   },
   "file_extension": ".py",
   "mimetype": "text/x-python",
   "name": "python",
   "nbconvert_exporter": "python",
   "pygments_lexer": "ipython3",
   "version": "3.13.5"
  }
 },
 "nbformat": 4,
 "nbformat_minor": 5
}
