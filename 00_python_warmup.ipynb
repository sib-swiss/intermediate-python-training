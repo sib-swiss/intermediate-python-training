{
 "cells": [
  {
   "cell_type": "markdown",
   "metadata": {},
   "source": [
    "# Intermediate Python - warm-up \n",
    "------------------------------------------------\n",
    "\n",
    "The goal of this notebook is to provide a warm-up before the course, to make sure everyone is (more or less) on the same level before the course.\n"
   ]
  },
  {
   "cell_type": "markdown",
   "metadata": {},
   "source": [
    "<br>\n",
    "\n",
    "## Looping in python\n",
    "\n",
    "### `for` loops\n",
    "\n",
    "The **`for` loop** is great to repeat an operation a given number of time."
   ]
  },
  {
   "cell_type": "code",
   "execution_count": null,
   "metadata": {},
   "outputs": [],
   "source": [
    "X = []\n",
    "\n",
    "for i in range(10):\n",
    "    X.append( i**2 )  # squared\n",
    "\n",
    "print(X)"
   ]
  },
  {
   "cell_type": "code",
   "execution_count": null,
   "metadata": {},
   "outputs": [],
   "source": [
    "for x in X:\n",
    "    print(x)"
   ]
  },
  {
   "cell_type": "markdown",
   "metadata": {},
   "source": [
    "<br>\n",
    "\n",
    "Elements in a container/sequence are accessed using the square brackets **`[]`** syntax.\n",
    "* **Important:** indexing is zero-based - the index of the 1st element is 0, not 1."
   ]
  },
  {
   "cell_type": "code",
   "execution_count": null,
   "metadata": {},
   "outputs": [],
   "source": [
    "print(X[0])  # 1 element. remeber that indexing starts at 0\n",
    "print(X[:3]) # elements from 0 (included), to 3 (excluded)\n",
    "print(X[3:]) # elements from 3 (included), to the end\n",
    "print(X[-1]) # reverse indexing : -1 is the last element of the list"
   ]
  },
  {
   "cell_type": "markdown",
   "metadata": {},
   "source": [
    "<br>\n",
    "\n",
    "### `while` loops\n",
    "\n",
    "The while loop is a good alternative when your stopping condition is not a fixed number of iteration."
   ]
  },
  {
   "cell_type": "code",
   "execution_count": null,
   "metadata": {},
   "outputs": [],
   "source": [
    "from random import randint\n",
    "\n",
    "X = [ randint(1,20) ]\n",
    "while  X[-1] !=1:\n",
    "    X.append(randint(1,20))\n",
    "\n",
    "print( X )"
   ]
  },
  {
   "cell_type": "markdown",
   "metadata": {},
   "source": [
    "<br>\n",
    "<br>\n",
    "\n",
    "## Conditional statements\n",
    "\n",
    "### `if... elif... else...` structure to test a condition"
   ]
  },
  {
   "cell_type": "code",
   "execution_count": null,
   "metadata": {},
   "outputs": [],
   "source": [
    "for x in X:\n",
    "    if x%2 == 1:\n",
    "        print(x,'is odd')\n",
    "    else:\n",
    "        print(x,'is even')"
   ]
  },
  {
   "cell_type": "markdown",
   "metadata": {},
   "source": [
    "<br>\n",
    "\n",
    "List comprehension is a very fine way of compressing all this."
   ]
  },
  {
   "cell_type": "code",
   "execution_count": null,
   "metadata": {},
   "outputs": [],
   "source": [
    "X = [ i**2 for i in range(10) ]\n",
    "Xeven = [ x for x in X if x%2 == 0 ]\n",
    "Xodd = [ x for x in X if x%2 == 1 ]\n",
    "\n",
    "print('X    ', X)\n",
    "print('Xeven', Xeven)\n",
    "print('Xodd ', Xodd)"
   ]
  },
  {
   "cell_type": "markdown",
   "metadata": {},
   "source": [
    "<br>\n",
    "<br>\n",
    "\n",
    "## Functions\n",
    "\n",
    "Functions are blocks of code that you can re-use."
   ]
  },
  {
   "cell_type": "code",
   "execution_count": null,
   "metadata": {},
   "outputs": [],
   "source": [
    "def separateOddandEven( container ):\n",
    "    \"\"\" returns 2 lists : one with the odds elements and one with the weven elements of the provided container \"\"\"\n",
    "    odds = []\n",
    "    evens = []\n",
    "    \n",
    "    for x in container:\n",
    "        if x%2 == 0 :\n",
    "            evens.append(x)\n",
    "        else:\n",
    "            odds.append(x)\n",
    "    return odds, evens\n",
    "    \n",
    "o , e = separateOddandEven(X)\n",
    "print(o,e)\n",
    "\n",
    "o , e = separateOddandEven([-1, 3, 2, 37, 8])\n",
    "print(o,e)\n"
   ]
  },
  {
   "cell_type": "markdown",
   "metadata": {},
   "source": [
    "<br>\n",
    "\n",
    "<div class=\"alert alert-block alert-success\">\n",
    "    \n",
    "### Micro-Exercise\n",
    "\n",
    "Write a function that takes a list as an argument and return its mean.\n",
    "    \n",
    "<div>"
   ]
  },
  {
   "cell_type": "code",
   "execution_count": null,
   "metadata": {},
   "outputs": [],
   "source": [
    "\n",
    "\n"
   ]
  },
  {
   "cell_type": "code",
   "execution_count": null,
   "metadata": {},
   "outputs": [],
   "source": []
  }
 ],
 "metadata": {
  "kernelspec": {
   "display_name": "Python 3 (ipykernel)",
   "language": "python",
   "name": "python3"
  },
  "language_info": {
   "codemirror_mode": {
    "name": "ipython",
    "version": 3
   },
   "file_extension": ".py",
   "mimetype": "text/x-python",
   "name": "python",
   "nbconvert_exporter": "python",
   "pygments_lexer": "ipython3",
   "version": "3.13.5"
  }
 },
 "nbformat": 4,
 "nbformat_minor": 4
}
